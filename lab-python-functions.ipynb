{
 "cells": [
  {
   "cell_type": "markdown",
   "id": "25d7736c-ba17-4aff-b6bb-66eba20fbf4e",
   "metadata": {},
   "source": [
    "# Lab | Functions"
   ]
  },
  {
   "cell_type": "markdown",
   "id": "0c581062-8967-4d93-b06e-62833222f930",
   "metadata": {
    "tags": []
   },
   "source": [
    "## Exercise: Managing Customer Orders with Functions\n",
    "\n",
    "In the previous exercise, you improved the code for managing customer orders by using loops and flow control. Now, let's take it a step further and refactor the code by introducing functions.\n",
    "\n",
    "Follow the steps below to complete the exercise:\n",
    "\n",
    "1. Define a function named `initialize_inventory` that takes `products` as a parameter. Inside the function, implement the code for initializing the inventory dictionary using a loop and user input.\n",
    "\n",
    "2. Define a function named `get_customer_orders` that takes no parameters. Inside the function, implement the code for prompting the user to enter the product names using a loop. The function should return the `customer_orders` set.\n",
    "\n",
    "3. Define a function named `update_inventory` that takes `customer_orders` and `inventory` as parameters. Inside the function, implement the code for updating the inventory dictionary based on the customer orders.\n",
    "\n",
    "4. Define a function named `calculate_order_statistics` that takes `customer_orders` and `products` as parameters. Inside the function, implement the code for calculating the order statistics (total products ordered, and percentage of unique products ordered). The function should return these values.\n",
    "\n",
    "5. Define a function named `print_order_statistics` that takes `order_statistics` as a parameter. Inside the function, implement the code for printing the order statistics.\n",
    "\n",
    "6. Define a function named `print_updated_inventory` that takes `inventory` as a parameter. Inside the function, implement the code for printing the updated inventory.\n",
    "\n",
    "7. Call the functions in the appropriate sequence to execute the program and manage customer orders.\n",
    "\n",
    "Hints for functions:\n",
    "\n",
    "- Consider the input parameters required for each function and their return values.\n",
    "- Utilize function parameters and return values to transfer data between functions.\n",
    "- Test your functions individually to ensure they work correctly.\n",
    "\n",
    "\n"
   ]
  },
  {
   "cell_type": "code",
   "execution_count": null,
   "id": "69cea41b-8799-4bd1-a6f5-b868d1f616e1",
   "metadata": {},
   "outputs": [],
   "source": [
    "def initialize_inventory(products):\n",
    "    inventory = {} \n",
    "    for product in products:  \n",
    "        cantidad = int(input(f\"¿Cuántos {product} tenemos en inventario? \"))  \n",
    "        inventory[product] = cantidad  \n",
    "    return  inventory\n",
    "    \n",
    "    "
   ]
  },
  {
   "cell_type": "code",
   "execution_count": null,
   "id": "3fa170bd-9bd2-4439-b50c-ec6050b562ee",
   "metadata": {},
   "outputs": [],
   "source": [
    "products = [\"t-shirt\", \"mug\", \"hat\", \"book\", \"keychain\"]\n",
    "inventory = initialize_inventory(products)\n",
    "print(inventory)\n"
   ]
  },
  {
   "cell_type": "code",
   "execution_count": 1,
   "id": "1f4fa336-5a96-4c2e-b8f1-c362651760ac",
   "metadata": {},
   "outputs": [],
   "source": [
    "inventory = {} \n",
    "def initialize_inventory(products):\n",
    "    for product in products:  \n",
    "        cantidad = int(input(f\"¿Cuántos {product} tenemos en inventario? \"))  \n",
    "        inventory[product] = cantidad  \n",
    "    return  inventory\n",
    "    "
   ]
  },
  {
   "cell_type": "code",
   "execution_count": 3,
   "id": "5f915e58-641a-4db3-9a84-a386e65a42b3",
   "metadata": {},
   "outputs": [
    {
     "name": "stdin",
     "output_type": "stream",
     "text": [
      "¿Cuántos t-shirt tenemos en inventario?  3\n",
      "¿Cuántos mug tenemos en inventario?  4\n",
      "¿Cuántos hat tenemos en inventario?  5\n",
      "¿Cuántos book tenemos en inventario?  6\n",
      "¿Cuántos keychain tenemos en inventario?  7\n"
     ]
    },
    {
     "data": {
      "text/plain": [
       "{'t-shirt': 3, 'mug': 4, 'hat': 5, 'book': 6, 'keychain': 7}"
      ]
     },
     "execution_count": 3,
     "metadata": {},
     "output_type": "execute_result"
    }
   ],
   "source": [
    "products = [\"t-shirt\", \"mug\", \"hat\", \"book\", \"keychain\"]\n",
    "initialize_inventory(products)"
   ]
  },
  {
   "cell_type": "markdown",
   "id": "37cd521c-9c71-4a7a-8e4e-43bee8492bd9",
   "metadata": {},
   "source": [
    "2.Define a function named get_customer_orders that takes no parameters. \n",
    "Inside the function, implement the code for prompting the user to enter the product names using a loop.\n",
    "The function should return the customer_orders set.\"\"\"\n"
   ]
  },
  {
   "cell_type": "code",
   "execution_count": 5,
   "id": "061f5bd2-8bda-45e1-a0ac-d4a8c0557f0c",
   "metadata": {},
   "outputs": [],
   "source": [
    "custumer_orders = set()\n",
    "def get_customer_orders():\n",
    "    for i in range(3):    \n",
    "        elemento = input(\"dime que productos quieres?\")\n",
    "        custumer_orders.add(elemento)\n",
    "    return custumer_orders"
   ]
  },
  {
   "cell_type": "code",
   "execution_count": 7,
   "id": "e300292e-f38b-4203-886d-7e24a8bcec0a",
   "metadata": {},
   "outputs": [
    {
     "name": "stdin",
     "output_type": "stream",
     "text": [
      "dime que productos quieres? mug\n",
      "dime que productos quieres? hat\n",
      "dime que productos quieres? book\n"
     ]
    },
    {
     "data": {
      "text/plain": [
       "{'book', 'hat', 'mug'}"
      ]
     },
     "execution_count": 7,
     "metadata": {},
     "output_type": "execute_result"
    }
   ],
   "source": [
    "get_customer_orders()"
   ]
  },
  {
   "cell_type": "code",
   "execution_count": 9,
   "id": "64f5a453-8229-46d7-b39c-52d7c26fad6b",
   "metadata": {},
   "outputs": [
    {
     "name": "stdout",
     "output_type": "stream",
     "text": [
      "{'mug', 'book', 'hat'}\n"
     ]
    }
   ],
   "source": [
    "print(custumer_orders)\n"
   ]
  },
  {
   "cell_type": "markdown",
   "id": "09e8fbc9-142a-4fa2-97d3-4ca755a27a85",
   "metadata": {},
   "source": [
    "3.Define a function named update_inventory that takes customer_orders and inventory as parameters. \n",
    "#Inside the function, implement the code for updating the inventory dictionary based on the customer orders.\n",
    "\n",
    "\n"
   ]
  },
  {
   "cell_type": "code",
   "execution_count": 13,
   "id": "10e2f081-5974-4299-a12a-22f7ed2b651e",
   "metadata": {},
   "outputs": [],
   "source": [
    "def update_inventory(custumer_orders,products):\n",
    "    for product in custumer_orders:\n",
    "        inventory[product] -= 1\n",
    "    return inventory\n",
    "    "
   ]
  },
  {
   "cell_type": "code",
   "execution_count": 15,
   "id": "3ab79889-b14c-403d-8ddf-77dee2a1e4fd",
   "metadata": {},
   "outputs": [
    {
     "data": {
      "text/plain": [
       "{'t-shirt': 3, 'mug': 3, 'hat': 4, 'book': 5, 'keychain': 7}"
      ]
     },
     "execution_count": 15,
     "metadata": {},
     "output_type": "execute_result"
    }
   ],
   "source": [
    "update_inventory(custumer_orders,products)"
   ]
  },
  {
   "cell_type": "code",
   "execution_count": null,
   "id": "b48b644c-18a2-4365-94c4-2159c59cf856",
   "metadata": {},
   "outputs": [],
   "source": [
    "#Define a function named calculate_order_statistics that takes customer_orders and products as parameters. \n",
    "#Inside the function, implement the code for calculating the order statistics (total products ordered, and percentage of unique products ordered).\n",
    "#The function should return these values\n",
    "\n"
   ]
  },
  {
   "cell_type": "code",
   "execution_count": 49,
   "id": "23b26c76-2d37-4963-a900-f52517850770",
   "metadata": {},
   "outputs": [],
   "source": [
    "def calculate_order_statistics(custumer_orders,products):\n",
    "    porcentaje = len(custumer_orders)/len(products)\n",
    "    pedido = len(custumer_orders)\n",
    "    return porcentaje, pedido\n",
    "    "
   ]
  },
  {
   "cell_type": "code",
   "execution_count": 51,
   "id": "19f45da0-ff9f-4181-b56a-79519c8483b9",
   "metadata": {},
   "outputs": [
    {
     "name": "stdout",
     "output_type": "stream",
     "text": [
      "(0.6, 3)\n"
     ]
    }
   ],
   "source": [
    "order_statistics = calculate_order_statistics(custumer_orders,products)\n",
    "print(order_statistics )"
   ]
  },
  {
   "cell_type": "markdown",
   "id": "cfc0b447-0738-4199-b01d-213bc3ef44a7",
   "metadata": {},
   "source": [
    "Define a function named print_order_statistics that takes order_statistics as a parameter. Inside the function, implement the code for printing the order statistics."
   ]
  },
  {
   "cell_type": "code",
   "execution_count": 53,
   "id": "09787177-1d46-4c37-8230-d53270166b68",
   "metadata": {},
   "outputs": [],
   "source": [
    "def print_order_statistics(order_statistics):\n",
    "    print(\"El porcentaje y total de elementos pedidos es\", order_statistics)"
   ]
  },
  {
   "cell_type": "code",
   "execution_count": 55,
   "id": "d581b2bb-e145-4c98-ba3e-d11c3ba33611",
   "metadata": {},
   "outputs": [
    {
     "name": "stdout",
     "output_type": "stream",
     "text": [
      "El porcentaje y total de elementos pedidos es (0.6, 3)\n"
     ]
    }
   ],
   "source": [
    "print_order_statistics(order_statistics)"
   ]
  },
  {
   "cell_type": "markdown",
   "id": "00213e3b-0252-4a27-a2f7-de65bdfc6af2",
   "metadata": {},
   "source": [
    "Define a function named print_updated_inventory that takes inventory as a parameter. Inside the function, implement the code for printing the updated inventory."
   ]
  },
  {
   "cell_type": "code",
   "execution_count": 57,
   "id": "1774b8e5-2eac-40b1-a559-7291646ba2cb",
   "metadata": {},
   "outputs": [],
   "source": [
    "def print_updated_inventory(inventory):\n",
    "    print(\"El inventario es\", inventory)\n",
    "    return\n",
    "    "
   ]
  },
  {
   "cell_type": "code",
   "execution_count": 59,
   "id": "ff1ca244-55fc-46f1-90e1-0978ce67b15c",
   "metadata": {},
   "outputs": [
    {
     "name": "stdout",
     "output_type": "stream",
     "text": [
      "El inventario es {'t-shirt': 3, 'mug': 3, 'hat': 4, 'book': 5, 'keychain': 7}\n"
     ]
    }
   ],
   "source": [
    "print_updated_inventory(inventory)"
   ]
  },
  {
   "cell_type": "code",
   "execution_count": null,
   "id": "fd72a7ce-36f1-4688-9276-f7a7e662efc9",
   "metadata": {},
   "outputs": [],
   "source": []
  }
 ],
 "metadata": {
  "kernelspec": {
   "display_name": "Python 3 (ipykernel)",
   "language": "python",
   "name": "python3"
  },
  "language_info": {
   "codemirror_mode": {
    "name": "ipython",
    "version": 3
   },
   "file_extension": ".py",
   "mimetype": "text/x-python",
   "name": "python",
   "nbconvert_exporter": "python",
   "pygments_lexer": "ipython3",
   "version": "3.12.4"
  }
 },
 "nbformat": 4,
 "nbformat_minor": 5
}
